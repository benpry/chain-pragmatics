{
 "cells": [
  {
   "cell_type": "code",
   "execution_count": 1,
   "id": "a1bbfee7-da70-4720-85aa-8f880a494162",
   "metadata": {},
   "outputs": [],
   "source": [
    "import pandas as pd"
   ]
  },
  {
   "cell_type": "code",
   "execution_count": 2,
   "id": "8f4e7d42-0610-4fb8-b003-c46da1e53313",
   "metadata": {},
   "outputs": [],
   "source": [
    "df_full = pd.read_csv(\"../data/katz-corpus/katz-corpus-full.csv\")\n",
    "df_train = pd.read_csv(\"../data/katz-corpus/katz-corpus-train.csv\")\n",
    "df_dev = pd.read_csv(\"../data/katz-corpus/katz-corpus-dev.csv\")\n",
    "df_test = pd.read_csv(\"../data/katz-corpus/katz-corpus-test.csv\")"
   ]
  },
  {
   "cell_type": "code",
   "execution_count": 3,
   "id": "ba6ee797-dec6-4397-99d5-d5359b58d663",
   "metadata": {
    "tags": []
   },
   "outputs": [],
   "source": [
    "train_index = df_train[[\"Type\", \"ID\"]]"
   ]
  },
  {
   "cell_type": "code",
   "execution_count": 18,
   "id": "30fa5994-d4ae-4b18-84c4-2d25703919de",
   "metadata": {},
   "outputs": [],
   "source": [
    "dev_index = df_dev[[\"Type\", \"ID\"]]"
   ]
  },
  {
   "cell_type": "code",
   "execution_count": 19,
   "id": "65f6382c-e986-4fe2-989e-0ed797d5c5e4",
   "metadata": {},
   "outputs": [],
   "source": [
    "test_index = df_test[[\"Type\", \"ID\"]]"
   ]
  },
  {
   "cell_type": "code",
   "execution_count": 48,
   "id": "4408ce6d-29a6-4f27-b56f-08cb177a679e",
   "metadata": {},
   "outputs": [],
   "source": [
    "df_full = df_full.reset_index().set_index([\"Type\", \"ID\"])"
   ]
  },
  {
   "cell_type": "code",
   "execution_count": 59,
   "id": "99449f67-7594-49ee-814a-e0eab985f4b2",
   "metadata": {},
   "outputs": [],
   "source": [
    "def get_indices(index_cols):\n",
    "    row_indices = [x[1] for x in list(index_cols.iterrows())]\n",
    "    return list(df_full.loc[row_indices].set_index(\"index\").index)"
   ]
  },
  {
   "cell_type": "code",
   "execution_count": 61,
   "id": "b1c52c30-5f0a-495c-96b4-4de0a562320b",
   "metadata": {},
   "outputs": [
    {
     "name": "stdout",
     "output_type": "stream",
     "text": [
      "[83, 138, 35, 55, 239, 262, 112, 81, 273, 245, 72, 135, 143, 0, 268, 175, 267, 39, 98, 305, 265, 110, 187, 142, 201, 227, 242, 229, 9, 162]\n"
     ]
    }
   ],
   "source": [
    "print(get_indices(train_index))"
   ]
  },
  {
   "cell_type": "code",
   "execution_count": 62,
   "id": "c87a57d8-b4dc-4ea4-981e-51059d7b7998",
   "metadata": {},
   "outputs": [
    {
     "name": "stdout",
     "output_type": "stream",
     "text": [
      "[217, 251, 168, 127, 22, 23, 290, 189, 154, 294, 295, 123, 118, 172, 19, 255, 246, 284, 28, 221, 103, 1, 16, 191, 100, 84, 131, 13, 116, 119, 298, 101, 156, 56, 126, 159, 58, 145, 235, 80, 252, 310, 171, 48, 17, 289, 234, 166, 287, 219, 188, 69, 78, 288, 144, 15, 134, 301, 233, 231, 64, 271, 147, 129, 41, 2, 249, 130, 91, 272, 203, 243, 44, 293, 86, 75, 139, 195, 302, 150, 125, 185, 182, 181, 57, 21, 68, 312, 313, 108, 92, 277, 113, 173, 316, 279, 27, 42, 190, 213]\n"
     ]
    }
   ],
   "source": [
    "print(get_indices(dev_index))"
   ]
  },
  {
   "cell_type": "code",
   "execution_count": 63,
   "id": "0a71de0b-2581-411c-a41a-13f5964521f1",
   "metadata": {},
   "outputs": [
    {
     "name": "stdout",
     "output_type": "stream",
     "text": [
      "[31, 6, 61, 26, 186, 254, 24, 90, 230, 244, 5, 263, 248, 300, 18, 170, 45, 247, 99, 192, 77, 115, 104, 67, 222, 111, 226, 8, 52, 309, 114, 250, 153, 93, 259, 46, 89, 167, 109, 3, 87, 238, 63, 200, 117, 164, 10, 205, 47, 282, 151, 59, 65, 155, 122, 37, 314, 216, 165, 210, 36, 38, 270, 132, 82, 163, 152, 177, 225, 208, 66, 280, 174, 261, 49, 157, 202, 85, 133, 223, 128, 276, 97, 51, 178, 79, 107, 211, 257, 4, 7, 33, 206, 209, 286, 120, 30, 184, 315, 74, 141, 193, 40, 32, 180, 29, 95, 304, 169, 224, 179, 183, 14, 12, 240, 281, 194, 269, 278, 232, 136, 71, 303, 140, 62, 307, 137, 285, 283, 291, 160, 158, 292, 20, 258, 260, 34, 299, 308, 11, 88, 237, 94, 73, 296, 25, 161, 207, 60, 148, 241]\n"
     ]
    }
   ],
   "source": [
    "print(get_indices(test_index))"
   ]
  },
  {
   "cell_type": "code",
   "execution_count": null,
   "id": "6b39872c-d7b0-4afb-99c6-28742f2cccf9",
   "metadata": {},
   "outputs": [],
   "source": []
  }
 ],
 "metadata": {
  "kernelspec": {
   "display_name": "Python 3 (ipykernel)",
   "language": "python",
   "name": "python3"
  },
  "language_info": {
   "codemirror_mode": {
    "name": "ipython",
    "version": 3
   },
   "file_extension": ".py",
   "mimetype": "text/x-python",
   "name": "python",
   "nbconvert_exporter": "python",
   "pygments_lexer": "ipython3",
   "version": "3.10.4"
  }
 },
 "nbformat": 4,
 "nbformat_minor": 5
}
