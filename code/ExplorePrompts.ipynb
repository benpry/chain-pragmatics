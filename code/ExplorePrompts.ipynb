{
 "cells": [
  {
   "cell_type": "code",
   "execution_count": 5,
   "id": "9c9bfebd-a0db-4895-85ee-30ff0ac5ca1d",
   "metadata": {},
   "outputs": [],
   "source": [
    "import numpy as np\n",
    "import random\n",
    "import pickle\n",
    "from pyprojroot import here"
   ]
  },
  {
   "cell_type": "code",
   "execution_count": 2,
   "id": "d78ccb7f-6630-4533-867c-3f39f181a231",
   "metadata": {},
   "outputs": [],
   "source": [
    "with open(here(f\"data/metaphor-corpus/metaphor-corpus-train.p\"), \"rb\") as fp:\n",
    "    corpus = pickle.load(fp)"
   ]
  },
  {
   "cell_type": "code",
   "execution_count": 19,
   "id": "412ad2e7-e06b-4d4f-afb1-7553ada2f5ab",
   "metadata": {},
   "outputs": [],
   "source": [
    "def sample_prompt(corpus):\n",
    "    question = np.random.choice(corpus)\n",
    "    print(question[\"prompt\"], question[\"values\"])"
   ]
  },
  {
   "cell_type": "code",
   "execution_count": 32,
   "id": "c9d817a4-6806-4e50-8058-3132231e40c8",
   "metadata": {},
   "outputs": [
    {
     "name": "stdout",
     "output_type": "stream",
     "text": [
      "\"I think we should think about the roots of the problem\"\n",
      "Which of these is an accurate paraphrase of the above sentence?\n",
      "a) I think we should think about the consequences of the problem\n",
      "b) I think we should think about the origins of the problem\n",
      "c) I think we should try to understand what caused the problem\n",
      "d) I think we should clarify the reasons of the problem\n",
      "\n",
      "The answer is ['2', '4', '3', '3']\n"
     ]
    }
   ],
   "source": [
    "sample_prompt(corpus)"
   ]
  }
 ],
 "metadata": {
  "kernelspec": {
   "display_name": "Python 3 (ipykernel)",
   "language": "python",
   "name": "python3"
  },
  "language_info": {
   "codemirror_mode": {
    "name": "ipython",
    "version": 3
   },
   "file_extension": ".py",
   "mimetype": "text/x-python",
   "name": "python",
   "nbconvert_exporter": "python",
   "pygments_lexer": "ipython3",
   "version": "3.10.4"
  }
 },
 "nbformat": 4,
 "nbformat_minor": 5
}
