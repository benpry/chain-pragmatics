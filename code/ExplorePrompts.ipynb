{
 "cells": [
  {
   "cell_type": "code",
   "execution_count": 1,
   "id": "9c9bfebd-a0db-4895-85ee-30ff0ac5ca1d",
   "metadata": {},
   "outputs": [],
   "source": [
    "import numpy as np\n",
    "import random\n",
    "import pickle\n",
    "from pyprojroot import here"
   ]
  },
  {
   "cell_type": "code",
   "execution_count": 2,
   "id": "d78ccb7f-6630-4533-867c-3f39f181a231",
   "metadata": {},
   "outputs": [],
   "source": [
    "with open(here(f\"data/metaphor-corpus/metaphor-corpus-train.p\"), \"rb\") as fp:\n",
    "    corpus = pickle.load(fp)"
   ]
  },
  {
   "cell_type": "code",
   "execution_count": 3,
   "id": "412ad2e7-e06b-4d4f-afb1-7553ada2f5ab",
   "metadata": {},
   "outputs": [],
   "source": [
    "def sample_prompt(corpus):\n",
    "    question = np.random.choice(corpus)\n",
    "    print(question[\"prompt\"], question[\"values\"])"
   ]
  },
  {
   "cell_type": "code",
   "execution_count": 35,
   "id": "c9d817a4-6806-4e50-8058-3132231e40c8",
   "metadata": {},
   "outputs": [
    {
     "name": "stdout",
     "output_type": "stream",
     "text": [
      "\"The weeks crawled by until we could meet again\"\n",
      "Which of these is an accurate paraphrase of the above sentence?\n",
      "a) The weeks seemed to pass slowly until we could meet again\n",
      "b) the weeks seemed to pass fast until we could meet again\n",
      "c) the weeks went as usual until we could meet again\n",
      "d) during the week , people crawled by until we could meet again\n",
      "\n",
      "The answer is ['4', '2', '2', '2']\n"
     ]
    }
   ],
   "source": [
    "sample_prompt(corpus)"
   ]
  },
  {
   "cell_type": "code",
   "execution_count": 5,
   "id": "6bf6f6cd-01af-4fc3-9aee-4a48d63c26db",
   "metadata": {},
   "outputs": [],
   "source": [
    "with open(here(f\"data/metaphor-corpus/metaphor-corpus-dev.p\"), \"rb\") as fp:\n",
    "    dev_corpus = pickle.load(fp)"
   ]
  },
  {
   "cell_type": "code",
   "execution_count": 7,
   "id": "0ade5d08-e613-4738-b77b-b9d14a70eaad",
   "metadata": {},
   "outputs": [
    {
     "data": {
      "text/plain": [
       "27"
      ]
     },
     "execution_count": 7,
     "metadata": {},
     "output_type": "execute_result"
    }
   ],
   "source": [
    "len(dev_corpus)"
   ]
  },
  {
   "cell_type": "code",
   "execution_count": 8,
   "id": "e3a568b1-98a3-4afa-9df2-3067ca83d782",
   "metadata": {},
   "outputs": [],
   "source": [
    "with open(here(f\"data/model-outputs/gpt3_metaphor_multiplechoice_curie_5shot_comparison.p\"), \"rb\") as fp:\n",
    "    model_outputs = pickle.load(fp)"
   ]
  },
  {
   "cell_type": "code",
   "execution_count": 13,
   "id": "724761e1-8c5e-4ce3-a127-f009b752e2b7",
   "metadata": {},
   "outputs": [
    {
     "data": {
      "text/plain": [
       "{'metaphor': 'Each blade of grass was a bayonet pointed firmly at our bare feet',\n",
       " 'paraphrases': ['Each blade of grass was a was firmly stinging our bare feet',\n",
       "  'Each blade of grass was soft under our bare feet',\n",
       "  'Grass was very soft and we could walk bare feet',\n",
       "  'We could painfully feel each blade of grass on our bare feet'],\n",
       " 'values': ['3', '1', '1', '4'],\n",
       " 'prompt': '\"Each blade of grass was a bayonet pointed firmly at our bare feet\"\\nWhich of these is an accurate paraphrase of the above sentence?\\na) Each blade of grass was a was firmly stinging our bare feet\\nb) Each blade of grass was soft under our bare feet\\nc) Grass was very soft and we could walk bare feet\\nd) We could painfully feel each blade of grass on our bare feet\\n\\nThe answer is',\n",
       " 'model_choices': [<OpenAIObject at 0x107a60c70> JSON: {\n",
       "    \"finish_reason\": \"stop\",\n",
       "    \"index\": 0,\n",
       "    \"logprobs\": null,\n",
       "    \"text\": \" c).\\nGrass is soft and can be walked on barefoot. This metaphor associates the softness of grass with the fact that it is pointed at the feet. So, the most appropriate\\nparaphrase is \\\"Each blade of grass was soft under our bare feet\\\".\"\n",
       "  }]}"
      ]
     },
     "execution_count": 13,
     "metadata": {},
     "output_type": "execute_result"
    }
   ],
   "source": [
    "model_outputs[3]"
   ]
  },
  {
   "cell_type": "code",
   "execution_count": null,
   "id": "52e13e35-9b2e-4292-ad34-318f600060ba",
   "metadata": {},
   "outputs": [],
   "source": []
  }
 ],
 "metadata": {
  "kernelspec": {
   "display_name": "Python 3 (ipykernel)",
   "language": "python",
   "name": "python3"
  },
  "language_info": {
   "codemirror_mode": {
    "name": "ipython",
    "version": 3
   },
   "file_extension": ".py",
   "mimetype": "text/x-python",
   "name": "python",
   "nbconvert_exporter": "python",
   "pygments_lexer": "ipython3",
   "version": "3.10.4"
  }
 },
 "nbformat": 4,
 "nbformat_minor": 5
}
